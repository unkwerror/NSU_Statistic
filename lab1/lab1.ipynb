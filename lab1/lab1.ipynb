{
 "cells": [
  {
   "cell_type": "code",
   "execution_count": 1,
   "id": "c342ecc9",
   "metadata": {},
   "outputs": [
    {
     "name": "stderr",
     "output_type": "stream",
     "text": [
      "/home/ikx/Desktop/NSU_courses/NSU_Statistic/.venv/lib/python3.12/site-packages/tqdm/auto.py:21: TqdmWarning: IProgress not found. Please update jupyter and ipywidgets. See https://ipywidgets.readthedocs.io/en/stable/user_install.html\n",
      "  from .autonotebook import tqdm as notebook_tqdm\n"
     ]
    },
    {
     "name": "stdout",
     "output_type": "stream",
     "text": [
      "Path to dataset files: /home/ikx/.cache/kagglehub/datasets/parulpandey/palmer-archipelago-antarctica-penguin-data/versions/1\n"
     ]
    }
   ],
   "source": [
    "import kagglehub\n",
    "\n",
    "# Download latest version\n",
    "path = kagglehub.dataset_download(\"parulpandey/palmer-archipelago-antarctica-penguin-data\")\n",
    "\n",
    "print(\"Path to dataset files:\", path)"
   ]
  },
  {
   "cell_type": "code",
   "execution_count": 2,
   "id": "9f346151",
   "metadata": {},
   "outputs": [],
   "source": [
    "import pandas as pd\n",
    "from tabulate import tabulate\n",
    "import seaborn as sns"
   ]
  },
  {
   "cell_type": "code",
   "execution_count": 3,
   "id": "817b1806",
   "metadata": {},
   "outputs": [],
   "source": [
    "df = pd.read_csv(path + '/penguins_size.csv')"
   ]
  },
  {
   "cell_type": "code",
   "execution_count": null,
   "id": "f88220ce",
   "metadata": {},
   "outputs": [],
   "source": [
    "def dataframe_cleaning(df: pd.DataFrame) -> pd.DataFrame:\n",
    "    \"\"\"\n",
    "    Выполняет очистку датасета от пропусков и некорректных значений.\n",
    "    \"\"\"\n",
    "    df = df.dropna()\n",
    "    df = df[df['sex'] != '.']\n",
    "    return df\n",
    "\n",
    "def dataset_report(df: pd.DataFrame, top_n: int = None):\n",
    "    \"\"\"\n",
    "    Генерация сводной таблицы по датафрейму:\n",
    "    - для числовых признаков: min, max, mean\n",
    "    - для категориальных признаков: распределение (все или top_n значений)\n",
    "    \n",
    "    :param df: DataFrame для анализа\n",
    "    :param top_n: ограничение на количество выводимых значений (например, top_n=5)\n",
    "    \"\"\"\n",
    "    info = []\n",
    "    for col in df.columns:\n",
    "        if pd.api.types.is_numeric_dtype(df[col]):\n",
    "            info.append([\n",
    "                col,\n",
    "                str(df[col].dtype),\n",
    "                df[col].isna().sum(),\n",
    "                round(df[col].isna().mean()*100, 2),\n",
    "                df[col].nunique(),\n",
    "                df[col].min(),\n",
    "                df[col].max(),\n",
    "                round(df[col].mean(), 2) if df[col].notna().any() else \"-\",\n",
    "                \"-\"\n",
    "            ])\n",
    "        else:\n",
    "            # распределение категориального признака\n",
    "            vc = df[col].value_counts(dropna=False)\n",
    "            if top_n is not None and len(vc) > top_n:\n",
    "                top = vc.head(top_n)\n",
    "                other_sum = vc.iloc[top_n:].sum()\n",
    "                dist = dict(top)\n",
    "                dist[\"Other\"] = other_sum\n",
    "            else:\n",
    "                dist = dict(vc)\n",
    "            dist_str = \", \".join([f\"{k}: {v}\" for k, v in dist.items()])\n",
    "            info.append([\n",
    "                col,\n",
    "                str(df[col].dtype),\n",
    "                df[col].isna().sum(),\n",
    "                round(df[col].isna().mean()*100, 2),\n",
    "                df[col].nunique(),\n",
    "                \"-\",\n",
    "                \"-\",\n",
    "                \"-\",\n",
    "                dist_str\n",
    "            ])\n",
    "    \n",
    "    headers = [\n",
    "        \"Колонка\", \"Тип\", \"Пропуски\", \"% пропусков\",\n",
    "        \"Уникальные\", \"Мин\", \"Макс\", \"Среднее\", \"Распределение\"\n",
    "    ]\n",
    "    \n",
    "    print(\"Размер датасета:\", df.shape)\n",
    "    print(tabulate(info, headers=headers, tablefmt=\"grid\"))\n",
    "\n"
   ]
  },
  {
   "cell_type": "code",
   "execution_count": null,
   "id": "6d3cc9a4",
   "metadata": {},
   "outputs": [
    {
     "name": "stdout",
     "output_type": "stream",
     "text": [
      "Размер датасета: (344, 7)\n",
      "+-------------------+---------+------------+---------------+--------------+--------+--------+-----------+-----------------------------------------+\n",
      "| Колонка           | Тип     |   Пропуски |   % пропусков |   Уникальные | Мин    | Макс   | Среднее   | Распределение                           |\n",
      "+===================+=========+============+===============+==============+========+========+===========+=========================================+\n",
      "| species           | object  |          0 |          0    |            3 | -      | -      | -         | Adelie: 152, Gentoo: 124, Chinstrap: 68 |\n",
      "+-------------------+---------+------------+---------------+--------------+--------+--------+-----------+-----------------------------------------+\n",
      "| island            | object  |          0 |          0    |            3 | -      | -      | -         | Biscoe: 168, Dream: 124, Torgersen: 52  |\n",
      "+-------------------+---------+------------+---------------+--------------+--------+--------+-----------+-----------------------------------------+\n",
      "| culmen_length_mm  | float64 |          2 |          0.58 |          164 | 32.1   | 59.6   | 43.92     | -                                       |\n",
      "+-------------------+---------+------------+---------------+--------------+--------+--------+-----------+-----------------------------------------+\n",
      "| culmen_depth_mm   | float64 |          2 |          0.58 |           80 | 13.1   | 21.5   | 17.15     | -                                       |\n",
      "+-------------------+---------+------------+---------------+--------------+--------+--------+-----------+-----------------------------------------+\n",
      "| flipper_length_mm | float64 |          2 |          0.58 |           55 | 172.0  | 231.0  | 200.92    | -                                       |\n",
      "+-------------------+---------+------------+---------------+--------------+--------+--------+-----------+-----------------------------------------+\n",
      "| body_mass_g       | float64 |          2 |          0.58 |           94 | 2700.0 | 6300.0 | 4201.75   | -                                       |\n",
      "+-------------------+---------+------------+---------------+--------------+--------+--------+-----------+-----------------------------------------+\n",
      "| sex               | object  |         10 |          2.91 |            3 | -      | -      | -         | MALE: 168, FEMALE: 165, nan: 10, .: 1   |\n",
      "+-------------------+---------+------------+---------------+--------------+--------+--------+-----------+-----------------------------------------+\n"
     ]
    }
   ],
   "source": [
    "\"\"\"\n",
    "Статистика по исходному датасету\n",
    "\"\"\"\n",
    "dataset_report(df)"
   ]
  },
  {
   "cell_type": "code",
   "execution_count": null,
   "id": "d8f79125",
   "metadata": {},
   "outputs": [
    {
     "name": "stdout",
     "output_type": "stream",
     "text": [
      "Размер датасета: (333, 7)\n",
      "+-------------------+---------+------------+---------------+--------------+--------+--------+-----------+-----------------------------------------+\n",
      "| Колонка           | Тип     |   Пропуски |   % пропусков |   Уникальные | Мин    | Макс   | Среднее   | Распределение                           |\n",
      "+===================+=========+============+===============+==============+========+========+===========+=========================================+\n",
      "| species           | object  |          0 |             0 |            3 | -      | -      | -         | Adelie: 146, Gentoo: 119, Chinstrap: 68 |\n",
      "+-------------------+---------+------------+---------------+--------------+--------+--------+-----------+-----------------------------------------+\n",
      "| island            | object  |          0 |             0 |            3 | -      | -      | -         | Biscoe: 163, Dream: 123, Torgersen: 47  |\n",
      "+-------------------+---------+------------+---------------+--------------+--------+--------+-----------+-----------------------------------------+\n",
      "| culmen_length_mm  | float64 |          0 |             0 |          163 | 32.1   | 59.6   | 43.99     | -                                       |\n",
      "+-------------------+---------+------------+---------------+--------------+--------+--------+-----------+-----------------------------------------+\n",
      "| culmen_depth_mm   | float64 |          0 |             0 |           79 | 13.1   | 21.5   | 17.16     | -                                       |\n",
      "+-------------------+---------+------------+---------------+--------------+--------+--------+-----------+-----------------------------------------+\n",
      "| flipper_length_mm | float64 |          0 |             0 |           54 | 172.0  | 231.0  | 200.97    | -                                       |\n",
      "+-------------------+---------+------------+---------------+--------------+--------+--------+-----------+-----------------------------------------+\n",
      "| body_mass_g       | float64 |          0 |             0 |           93 | 2700.0 | 6300.0 | 4207.06   | -                                       |\n",
      "+-------------------+---------+------------+---------------+--------------+--------+--------+-----------+-----------------------------------------+\n",
      "| sex               | object  |          0 |             0 |            2 | -      | -      | -         | MALE: 168, FEMALE: 165                  |\n",
      "+-------------------+---------+------------+---------------+--------------+--------+--------+-----------+-----------------------------------------+\n"
     ]
    }
   ],
   "source": [
    "\"\"\"\n",
    "Статистика по чистому датасету\n",
    "\"\"\"\n",
    "df = dataframe_cleaning(df)\n",
    "dataset_report(df)"
   ]
  },
  {
   "cell_type": "code",
   "execution_count": null,
   "id": "303289ce",
   "metadata": {},
   "outputs": [],
   "source": []
  }
 ],
 "metadata": {
  "kernelspec": {
   "display_name": ".venv",
   "language": "python",
   "name": "python3"
  },
  "language_info": {
   "codemirror_mode": {
    "name": "ipython",
    "version": 3
   },
   "file_extension": ".py",
   "mimetype": "text/x-python",
   "name": "python",
   "nbconvert_exporter": "python",
   "pygments_lexer": "ipython3",
   "version": "3.12.9"
  }
 },
 "nbformat": 4,
 "nbformat_minor": 5
}
