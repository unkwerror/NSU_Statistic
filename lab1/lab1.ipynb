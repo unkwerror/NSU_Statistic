{
 "cells": [
  {
   "cell_type": "code",
   "execution_count": 1,
   "id": "c342ecc9",
   "metadata": {},
   "outputs": [
    {
     "name": "stderr",
     "output_type": "stream",
     "text": [
      "/home/ikx/Desktop/NSU_courses/Menshanov/.venv/lib/python3.12/site-packages/tqdm/auto.py:21: TqdmWarning: IProgress not found. Please update jupyter and ipywidgets. See https://ipywidgets.readthedocs.io/en/stable/user_install.html\n",
      "  from .autonotebook import tqdm as notebook_tqdm\n"
     ]
    },
    {
     "name": "stdout",
     "output_type": "stream",
     "text": [
      "Downloading from https://www.kaggle.com/api/v1/datasets/download/yasserh/wine-quality-dataset?dataset_version_number=1...\n"
     ]
    },
    {
     "name": "stderr",
     "output_type": "stream",
     "text": [
      "100%|██████████| 21.5k/21.5k [00:00<00:00, 84.0kB/s]"
     ]
    },
    {
     "name": "stdout",
     "output_type": "stream",
     "text": [
      "Extracting files...\n",
      "Path to dataset files: /home/ikx/.cache/kagglehub/datasets/yasserh/wine-quality-dataset/versions/1\n"
     ]
    },
    {
     "name": "stderr",
     "output_type": "stream",
     "text": [
      "\n"
     ]
    }
   ],
   "source": [
    "import kagglehub\n",
    "\n",
    "# Download latest version\n",
    "path = kagglehub.dataset_download(\"yasserh/wine-quality-dataset\")\n",
    "\n",
    "print(\"Path to dataset files:\", path)"
   ]
  },
  {
   "cell_type": "code",
   "execution_count": 3,
   "id": "9f346151",
   "metadata": {},
   "outputs": [],
   "source": [
    "import pandas as pd"
   ]
  },
  {
   "cell_type": "code",
   "execution_count": null,
   "id": "817b1806",
   "metadata": {},
   "outputs": [],
   "source": [
    "df = pd.read_csv(path + '/WineQT.csv')"
   ]
  },
  {
   "cell_type": "code",
   "execution_count": null,
   "id": "f88220ce",
   "metadata": {},
   "outputs": [],
   "source": [
    "def dataset_shape(df: pd.DataFrame):\n",
    "    \"\"\"\n",
    "    Возвращает размерность датасета (строки, столбцы).\n",
    "    \"\"\"\n",
    "    return df.shape\n",
    "\n",
    "def num_features(df: pd.DataFrame) -> int:\n",
    "    \"\"\"\n",
    "    Возвращает количество признаков (столбцов) в датасете.\n",
    "    \"\"\"\n",
    "    return df.shape[1]\n",
    "\n",
    "def quality_distribution(df: pd.DataFrame):\n",
    "    \"\"\"\n",
    "    Для Wine Quality dataset:\n",
    "    - считает количество уникальных классов качества\n",
    "    - показывает количество объектов в каждом классе\n",
    "    \"\"\"\n",
    "    num_classes = df[\"quality\"].nunique()          # сколько разных значений качества\n",
    "    class_counts = df[\"quality\"].value_counts()    # распределение по классам\n",
    "    \n",
    "    return num_classes, class_counts"
   ]
  },
  {
   "cell_type": "code",
   "execution_count": null,
   "id": "6d3cc9a4",
   "metadata": {},
   "outputs": [],
   "source": []
  }
 ],
 "metadata": {
  "kernelspec": {
   "display_name": ".venv",
   "language": "python",
   "name": "python3"
  },
  "language_info": {
   "codemirror_mode": {
    "name": "ipython",
    "version": 3
   },
   "file_extension": ".py",
   "mimetype": "text/x-python",
   "name": "python",
   "nbconvert_exporter": "python",
   "pygments_lexer": "ipython3",
   "version": "3.12.9"
  }
 },
 "nbformat": 4,
 "nbformat_minor": 5
}
